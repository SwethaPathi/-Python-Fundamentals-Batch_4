{
 "cells": [
  {
   "cell_type": "code",
   "execution_count": 1,
   "metadata": {},
   "outputs": [
    {
     "name": "stdout",
     "output_type": "stream",
     "text": [
      "['royal enfield', 'cbz', 'activa 4g']\n"
     ]
    }
   ],
   "source": [
    "#how to change the element from the list\n",
    "motorcycle=['royal enfield','cbz','activa 4g']\n",
    "print(motorcycle)"
   ]
  },
  {
   "cell_type": "code",
   "execution_count": 2,
   "metadata": {},
   "outputs": [
    {
     "name": "stdout",
     "output_type": "stream",
     "text": [
      "['ducati', 'cbz', 'activa 4g']\n"
     ]
    }
   ],
   "source": [
    "motorcycle[0]='ducati'\n",
    "print(motorcycle)"
   ]
  },
  {
   "cell_type": "code",
   "execution_count": 3,
   "metadata": {},
   "outputs": [
    {
     "data": {
      "text/plain": [
       "['ducati', 'cbz', 'activa 4g']"
      ]
     },
     "execution_count": 3,
     "metadata": {},
     "output_type": "execute_result"
    }
   ],
   "source": [
    "#3.adding element to the list:\n",
    "#we need to add'hero' brand to the 'motorcycles' list:\n",
    "motorcycle"
   ]
  },
  {
   "cell_type": "code",
   "execution_count": 4,
   "metadata": {},
   "outputs": [
    {
     "name": "stdout",
     "output_type": "stream",
     "text": [
      "['ducati', 'cbz', 'activa 4g', 'hero']\n"
     ]
    }
   ],
   "source": [
    "motorcycle.append('hero')\n",
    "print(motorcycle)"
   ]
  },
  {
   "cell_type": "code",
   "execution_count": 5,
   "metadata": {},
   "outputs": [
    {
     "name": "stdout",
     "output_type": "stream",
     "text": [
      "['ducati', 'cbz', 'activa 4g', 'hero', 'ducati']\n"
     ]
    }
   ],
   "source": [
    "motorcycle.append('ducati')\n",
    "print(motorcycle)"
   ]
  },
  {
   "cell_type": "code",
   "execution_count": 6,
   "metadata": {},
   "outputs": [
    {
     "name": "stdout",
     "output_type": "stream",
     "text": [
      "['ducati', 'cbz', 'honda', 'activa 4g', 'hero', 'ducati']\n"
     ]
    }
   ],
   "source": [
    "#'honda' to be added in the 2nd index position?\n",
    "motorcycle.insert(2,'honda')\n",
    "print(motorcycle)"
   ]
  },
  {
   "cell_type": "code",
   "execution_count": 8,
   "metadata": {},
   "outputs": [
    {
     "name": "stdout",
     "output_type": "stream",
     "text": [
      "['hari', 'tulasi', 'roy', 'kalyani', 'karuna', 'chandu']\n"
     ]
    }
   ],
   "source": [
    "fundamental_python=[]\n",
    "fundamental_python.append('hari')\n",
    "fundamental_python.append('tulasi')\n",
    "fundamental_python.append('roy')\n",
    "fundamental_python.append('kalyani')\n",
    "fundamental_python.append('karuna')\n",
    "fundamental_python.append('chandu')\n",
    "print(fundamental_python)"
   ]
  },
  {
   "cell_type": "code",
   "execution_count": 9,
   "metadata": {},
   "outputs": [
    {
     "data": {
      "text/plain": [
       "['hari', 'tulasi', 'roy', 'kalyani', 'karuna', 'chandu']"
      ]
     },
     "execution_count": 9,
     "metadata": {},
     "output_type": "execute_result"
    }
   ],
   "source": [
    "#removing element from a list:\n",
    "fundamental_python"
   ]
  },
  {
   "cell_type": "code",
   "execution_count": 10,
   "metadata": {},
   "outputs": [
    {
     "name": "stdout",
     "output_type": "stream",
     "text": [
      "['tulasi', 'roy', 'kalyani', 'karuna', 'chandu']\n"
     ]
    }
   ],
   "source": [
    "del fundamental_python[0]\n",
    "print(fundamental_python)"
   ]
  },
  {
   "cell_type": "code",
   "execution_count": 11,
   "metadata": {},
   "outputs": [
    {
     "data": {
      "text/plain": [
       "['ducati', 'cbz', 'honda', 'activa 4g', 'hero', 'ducati']"
      ]
     },
     "execution_count": 11,
     "metadata": {},
     "output_type": "execute_result"
    }
   ],
   "source": [
    "motorcycle"
   ]
  },
  {
   "cell_type": "code",
   "execution_count": 13,
   "metadata": {},
   "outputs": [
    {
     "name": "stdout",
     "output_type": "stream",
     "text": [
      "['ducati', 'cbz', 'honda', 'activa 4g', 'hero']\n",
      "ducati\n"
     ]
    }
   ],
   "source": [
    "poped_motorcycle=motorcycle.pop()\n",
    "print(motorcycle)\n",
    "print(poped_motorcycle)"
   ]
  },
  {
   "cell_type": "code",
   "execution_count": null,
   "metadata": {},
   "outputs": [],
   "source": []
  }
 ],
 "metadata": {
  "kernelspec": {
   "display_name": "Python 3",
   "language": "python",
   "name": "python3"
  },
  "language_info": {
   "codemirror_mode": {
    "name": "ipython",
    "version": 3
   },
   "file_extension": ".py",
   "mimetype": "text/x-python",
   "name": "python",
   "nbconvert_exporter": "python",
   "pygments_lexer": "ipython3",
   "version": "3.7.3"
  }
 },
 "nbformat": 4,
 "nbformat_minor": 2
}
