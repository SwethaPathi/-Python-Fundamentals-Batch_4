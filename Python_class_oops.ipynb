{
 "cells": [
  {
   "cell_type": "code",
   "execution_count": null,
   "metadata": {},
   "outputs": [],
   "source": [
    "class Abc(): #class name\n",
    "    def greet_user(self) #method name"
   ]
  },
  {
   "cell_type": "code",
   "execution_count": 10,
   "metadata": {},
   "outputs": [],
   "source": [
    "class Greetings():\n",
    "    def greet_user(self):\n",
    "        print(\"Goodmorning, Everyone\")\n",
    "        \n",
    "    def check_user(self):\n",
    "        print(\"how can i help you in oop's?\")\n",
    "        \n",
    "    def add_to_cart(self):\n",
    "        print(\"added items to cart and ready for payment\")\n",
    "         \n",
    "            \n",
    "#creation of object:\n",
    "xyz = Greetings()\n",
    "\n",
    "roy = Greetings()"
   ]
  },
  {
   "cell_type": "code",
   "execution_count": 3,
   "metadata": {},
   "outputs": [
    {
     "name": "stdout",
     "output_type": "stream",
     "text": [
      "Goodmorning, Everyone\n"
     ]
    }
   ],
   "source": [
    "xyz.greet_user()"
   ]
  },
  {
   "cell_type": "code",
   "execution_count": 4,
   "metadata": {},
   "outputs": [
    {
     "name": "stdout",
     "output_type": "stream",
     "text": [
      "how can i help you in oop's?\n"
     ]
    }
   ],
   "source": [
    "xyz.check_user()"
   ]
  },
  {
   "cell_type": "code",
   "execution_count": 5,
   "metadata": {},
   "outputs": [
    {
     "name": "stdout",
     "output_type": "stream",
     "text": [
      "added items to cart and ready for payment\n"
     ]
    }
   ],
   "source": [
    "xyz.add_to_cart()"
   ]
  },
  {
   "cell_type": "code",
   "execution_count": 11,
   "metadata": {},
   "outputs": [
    {
     "name": "stdout",
     "output_type": "stream",
     "text": [
      "Goodmorning, Everyone\n"
     ]
    }
   ],
   "source": [
    "roy.greet_user()"
   ]
  },
  {
   "cell_type": "code",
   "execution_count": 12,
   "metadata": {},
   "outputs": [
    {
     "name": "stdout",
     "output_type": "stream",
     "text": [
      "added items to cart and ready for payment\n"
     ]
    }
   ],
   "source": [
    "roy.add_to_cart()"
   ]
  },
  {
   "cell_type": "code",
   "execution_count": 14,
   "metadata": {},
   "outputs": [
    {
     "name": "stdout",
     "output_type": "stream",
     "text": [
      "how can i help you in oop's?\n"
     ]
    }
   ],
   "source": [
    "roy.check_user()"
   ]
  },
  {
   "cell_type": "code",
   "execution_count": null,
   "metadata": {},
   "outputs": [],
   "source": []
  }
 ],
 "metadata": {
  "kernelspec": {
   "display_name": "Python 3",
   "language": "python",
   "name": "python3"
  },
  "language_info": {
   "codemirror_mode": {
    "name": "ipython",
    "version": 3
   },
   "file_extension": ".py",
   "mimetype": "text/x-python",
   "name": "python",
   "nbconvert_exporter": "python",
   "pygments_lexer": "ipython3",
   "version": "3.7.3"
  }
 },
 "nbformat": 4,
 "nbformat_minor": 2
}
