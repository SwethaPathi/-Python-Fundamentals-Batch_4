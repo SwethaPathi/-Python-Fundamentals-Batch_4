{
 "cells": [
  {
   "cell_type": "code",
   "execution_count": 1,
   "metadata": {},
   "outputs": [
    {
     "name": "stdout",
     "output_type": "stream",
     "text": [
      "swift\n"
     ]
    }
   ],
   "source": [
    "cars=['tata safar','Bmw','swift','skoda']\n",
    "print((cars)[2])"
   ]
  },
  {
   "cell_type": "code",
   "execution_count": 3,
   "metadata": {},
   "outputs": [
    {
     "name": "stdout",
     "output_type": "stream",
     "text": [
      "Bmw\n"
     ]
    }
   ],
   "source": [
    "print(cars[1].title())"
   ]
  },
  {
   "cell_type": "code",
   "execution_count": 4,
   "metadata": {},
   "outputs": [
    {
     "name": "stdout",
     "output_type": "stream",
     "text": [
      "my second car was a Swift\n"
     ]
    }
   ],
   "source": [
    "cars=['tata safar','Bmw','swift','skoda']\n",
    "message=f\"my second car was a {cars[2].title()}\"\n",
    "print(message)"
   ]
  },
  {
   "cell_type": "code",
   "execution_count": 5,
   "metadata": {},
   "outputs": [
    {
     "name": "stdout",
     "output_type": "stream",
     "text": [
      "['royal enfield', 'cbz', 'activa 4g']\n"
     ]
    }
   ],
   "source": [
    "motorcycle=['royal enfield','cbz','activa 4g']\n",
    "print(motorcycle)"
   ]
  },
  {
   "cell_type": "code",
   "execution_count": 6,
   "metadata": {},
   "outputs": [
    {
     "name": "stdout",
     "output_type": "stream",
     "text": [
      "['royal enfield', 'cbz', 'activa 4g']\n"
     ]
    }
   ],
   "source": [
    "motorcycle=[\"royal enfield\",\"cbz\",\"activa 4g\"]\n",
    "print(motorcycle)"
   ]
  },
  {
   "cell_type": "code",
   "execution_count": 8,
   "metadata": {},
   "outputs": [
    {
     "name": "stdout",
     "output_type": "stream",
     "text": [
      "['ducati', 'cbz', 'activa 4g']\n"
     ]
    }
   ],
   "source": [
    "motorcycle[0]='ducati'\n",
    "print(motorcycle)"
   ]
  },
  {
   "cell_type": "code",
   "execution_count": 10,
   "metadata": {},
   "outputs": [
    {
     "name": "stdout",
     "output_type": "stream",
     "text": [
      "['ducati', 'ducati', 'activa 4g']\n"
     ]
    }
   ],
   "source": [
    "motorcycle[1]='ducati'\n",
    "print(motorcycle)"
   ]
  },
  {
   "cell_type": "code",
   "execution_count": 11,
   "metadata": {},
   "outputs": [
    {
     "name": "stdout",
     "output_type": "stream",
     "text": [
      "['ducati', 'cbz', 'activa 4g']\n"
     ]
    }
   ],
   "source": [
    "motorcycle[1]='cbz'\n",
    "print(motorcycle)"
   ]
  },
  {
   "cell_type": "code",
   "execution_count": 18,
   "metadata": {},
   "outputs": [
    {
     "name": "stdout",
     "output_type": "stream",
     "text": [
      "['ducati', 'royalenfield', 'activa 4g']\n"
     ]
    }
   ],
   "source": [
    "motorcycle[1]='royalenfield'\n",
    "print(motorcycle)"
   ]
  },
  {
   "cell_type": "code",
   "execution_count": 21,
   "metadata": {},
   "outputs": [
    {
     "name": "stdout",
     "output_type": "stream",
     "text": [
      "['ducati', 'activa 4g', 'activa 4g']\n"
     ]
    }
   ],
   "source": [
    "motorcycle[1]='activa 4g'\n",
    "print(motorcycle)"
   ]
  },
  {
   "cell_type": "code",
   "execution_count": null,
   "metadata": {},
   "outputs": [],
   "source": []
  }
 ],
 "metadata": {
  "kernelspec": {
   "display_name": "Python 3",
   "language": "python",
   "name": "python3"
  },
  "language_info": {
   "codemirror_mode": {
    "name": "ipython",
    "version": 3
   },
   "file_extension": ".py",
   "mimetype": "text/x-python",
   "name": "python",
   "nbconvert_exporter": "python",
   "pygments_lexer": "ipython3",
   "version": "3.7.3"
  }
 },
 "nbformat": 4,
 "nbformat_minor": 2
}
